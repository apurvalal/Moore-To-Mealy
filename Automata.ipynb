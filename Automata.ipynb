{
 "cells": [
  {
   "cell_type": "code",
   "execution_count": 10,
   "id": "833afd0e",
   "metadata": {},
   "outputs": [],
   "source": [
    "import pandas as pd\n",
    "import dataframe_image as dfi"
   ]
  },
  {
   "cell_type": "code",
   "execution_count": 11,
   "id": "2bcce1ba",
   "metadata": {},
   "outputs": [],
   "source": [
    "#Current State\n",
    "q1 = \"A\"\n",
    "q2 = \"B\"\n",
    "q3 = \"C\""
   ]
  },
  {
   "cell_type": "code",
   "execution_count": 12,
   "id": "a9bf7c8e",
   "metadata": {},
   "outputs": [],
   "source": [
    "#Next State 0\n",
    "q1_z = \"A\"\n",
    "q2_z = \"C\"\n",
    "q3_z = \"A\""
   ]
  },
  {
   "cell_type": "code",
   "execution_count": 13,
   "id": "70fb554c",
   "metadata": {},
   "outputs": [],
   "source": [
    "#Next State 1\n",
    "q1_o = \"B\"\n",
    "q2_o = \"A\"\n",
    "q3_o = \"B\""
   ]
  },
  {
   "cell_type": "code",
   "execution_count": 14,
   "id": "cc1a378a",
   "metadata": {},
   "outputs": [],
   "source": [
    "#Output\n",
    "q1_output = 0\n",
    "q2_output = 1\n",
    "q3_output = 0"
   ]
  },
  {
   "cell_type": "code",
   "execution_count": 15,
   "id": "637d3fa1",
   "metadata": {},
   "outputs": [],
   "source": [
    "current_state = [q1, q2, q3]\n",
    "next_state_z = [q1_z, q2_z, q3_z]\n",
    "next_state_o = [q1_o, q2_o, q3_o]\n",
    "output = [q1_output, q2_output, q3_output]"
   ]
  },
  {
   "cell_type": "code",
   "execution_count": 16,
   "id": "b850531e",
   "metadata": {},
   "outputs": [],
   "source": [
    "moore_dictionary = {q1:q1_output, q2:q2_output, q3:q3_output}"
   ]
  },
  {
   "cell_type": "code",
   "execution_count": 17,
   "id": "501ae032",
   "metadata": {},
   "outputs": [],
   "source": [
    "moore_machine = {\"Current State\": current_state, \"0\": next_state_z, \"1\":next_state_o, \"Output\":output}"
   ]
  },
  {
   "cell_type": "code",
   "execution_count": 18,
   "id": "edf4bf55",
   "metadata": {},
   "outputs": [],
   "source": [
    "moore_machine = pd.DataFrame(moore_machine)\n",
    "moore_machine.set_index(\"Current State\", inplace=True)"
   ]
  },
  {
   "cell_type": "code",
   "execution_count": 19,
   "id": "3becf006",
   "metadata": {},
   "outputs": [],
   "source": [
    "mealy_string = \"{current_state}, {output}\""
   ]
  },
  {
   "cell_type": "code",
   "execution_count": 20,
   "id": "cdb5d045",
   "metadata": {},
   "outputs": [],
   "source": [
    "mealy_zero = []\n",
    "mealy_one = []"
   ]
  },
  {
   "cell_type": "code",
   "execution_count": 21,
   "id": "a0d6e216",
   "metadata": {},
   "outputs": [],
   "source": [
    "for index in range(0, 3):\n",
    "    mealy_zero.append(mealy_string.format(current_state=moore_machine['0'][index], output=moore_dictionary[moore_machine['0'][index]]))\n",
    "    mealy_one.append(mealy_string.format(current_state=moore_machine['1'][index], output=moore_dictionary[moore_machine['1'][index]]))\n",
    "    "
   ]
  },
  {
   "cell_type": "code",
   "execution_count": 22,
   "id": "82f3fb75",
   "metadata": {},
   "outputs": [],
   "source": [
    "mealy_machine = {\"Current State\": current_state, \"0\": mealy_zero, \"1\": mealy_one}"
   ]
  },
  {
   "cell_type": "code",
   "execution_count": 23,
   "id": "98a1a04b",
   "metadata": {},
   "outputs": [],
   "source": [
    "mealy_machine = pd.DataFrame(mealy_machine)\n",
    "mealy_machine.set_index(\"Current State\", inplace=True)"
   ]
  },
  {
   "cell_type": "code",
   "execution_count": 24,
   "id": "4579dd2a",
   "metadata": {
    "scrolled": false
   },
   "outputs": [
    {
     "data": {
      "text/html": [
       "<div>\n",
       "<style scoped>\n",
       "    .dataframe tbody tr th:only-of-type {\n",
       "        vertical-align: middle;\n",
       "    }\n",
       "\n",
       "    .dataframe tbody tr th {\n",
       "        vertical-align: top;\n",
       "    }\n",
       "\n",
       "    .dataframe thead th {\n",
       "        text-align: right;\n",
       "    }\n",
       "</style>\n",
       "<table border=\"1\" class=\"dataframe\">\n",
       "  <thead>\n",
       "    <tr style=\"text-align: right;\">\n",
       "      <th></th>\n",
       "      <th>0</th>\n",
       "      <th>1</th>\n",
       "      <th>Output</th>\n",
       "    </tr>\n",
       "    <tr>\n",
       "      <th>Current State</th>\n",
       "      <th></th>\n",
       "      <th></th>\n",
       "      <th></th>\n",
       "    </tr>\n",
       "  </thead>\n",
       "  <tbody>\n",
       "    <tr>\n",
       "      <th>A</th>\n",
       "      <td>A</td>\n",
       "      <td>B</td>\n",
       "      <td>0</td>\n",
       "    </tr>\n",
       "    <tr>\n",
       "      <th>B</th>\n",
       "      <td>C</td>\n",
       "      <td>A</td>\n",
       "      <td>1</td>\n",
       "    </tr>\n",
       "    <tr>\n",
       "      <th>C</th>\n",
       "      <td>A</td>\n",
       "      <td>B</td>\n",
       "      <td>0</td>\n",
       "    </tr>\n",
       "  </tbody>\n",
       "</table>\n",
       "</div>"
      ],
      "text/plain": [
       "               0  1  Output\n",
       "Current State              \n",
       "A              A  B       0\n",
       "B              C  A       1\n",
       "C              A  B       0"
      ]
     },
     "execution_count": 24,
     "metadata": {},
     "output_type": "execute_result"
    }
   ],
   "source": [
    "moore_machine"
   ]
  },
  {
   "cell_type": "code",
   "execution_count": 25,
   "id": "46d33db5",
   "metadata": {},
   "outputs": [
    {
     "data": {
      "text/html": [
       "<div>\n",
       "<style scoped>\n",
       "    .dataframe tbody tr th:only-of-type {\n",
       "        vertical-align: middle;\n",
       "    }\n",
       "\n",
       "    .dataframe tbody tr th {\n",
       "        vertical-align: top;\n",
       "    }\n",
       "\n",
       "    .dataframe thead th {\n",
       "        text-align: right;\n",
       "    }\n",
       "</style>\n",
       "<table border=\"1\" class=\"dataframe\">\n",
       "  <thead>\n",
       "    <tr style=\"text-align: right;\">\n",
       "      <th></th>\n",
       "      <th>0</th>\n",
       "      <th>1</th>\n",
       "    </tr>\n",
       "    <tr>\n",
       "      <th>Current State</th>\n",
       "      <th></th>\n",
       "      <th></th>\n",
       "    </tr>\n",
       "  </thead>\n",
       "  <tbody>\n",
       "    <tr>\n",
       "      <th>A</th>\n",
       "      <td>A, 0</td>\n",
       "      <td>B, 1</td>\n",
       "    </tr>\n",
       "    <tr>\n",
       "      <th>B</th>\n",
       "      <td>C, 0</td>\n",
       "      <td>A, 0</td>\n",
       "    </tr>\n",
       "    <tr>\n",
       "      <th>C</th>\n",
       "      <td>A, 0</td>\n",
       "      <td>B, 1</td>\n",
       "    </tr>\n",
       "  </tbody>\n",
       "</table>\n",
       "</div>"
      ],
      "text/plain": [
       "                  0     1\n",
       "Current State            \n",
       "A              A, 0  B, 1\n",
       "B              C, 0  A, 0\n",
       "C              A, 0  B, 1"
      ]
     },
     "execution_count": 25,
     "metadata": {},
     "output_type": "execute_result"
    }
   ],
   "source": [
    "mealy_machine"
   ]
  },
  {
   "cell_type": "code",
   "execution_count": 26,
   "id": "f0b383b4",
   "metadata": {},
   "outputs": [
    {
     "name": "stderr",
     "output_type": "stream",
     "text": [
      "[1130/184459.953319:WARNING:headless_browser_main_parts.cc(106)] Cannot create Pref Service with no user data dir.\n",
      "[1130/184459.967194:WARNING:vaapi_wrapper.cc(588)] VAAPI video acceleration not available for swiftshader\n",
      "[1130/184459.967301:ERROR:gpu_init.cc(440)] Passthrough is not supported, GL is swiftshader\n",
      "[1130/184500.141945:INFO:headless_shell.cc(648)] Written to file /tmp/tmpi1xwzx_7/temp.png.\n"
     ]
    }
   ],
   "source": [
    "df_styled = mealy_machine.style.background_gradient() #adding a gradient based on values in cell\n",
    "dfi.export(df_styled,\"mealy_machine.png\")"
   ]
  },
  {
   "cell_type": "code",
   "execution_count": null,
   "id": "cfc7ee75",
   "metadata": {},
   "outputs": [],
   "source": []
  }
 ],
 "metadata": {
  "kernelspec": {
   "display_name": "Python 3 (ipykernel)",
   "language": "python",
   "name": "python3"
  },
  "language_info": {
   "codemirror_mode": {
    "name": "ipython",
    "version": 3
   },
   "file_extension": ".py",
   "mimetype": "text/x-python",
   "name": "python",
   "nbconvert_exporter": "python",
   "pygments_lexer": "ipython3",
   "version": "3.9.5"
  }
 },
 "nbformat": 4,
 "nbformat_minor": 5
}
